{
 "cells": [
  {
   "cell_type": "markdown",
   "id": "f2536626-3bf3-4e09-be8b-a62651bd2067",
   "metadata": {},
   "source": [
    "**This is a previous example**\n",
    "* Source link https://github.com/Sven-Bo/streamlit-sales-dashboard\n",
    "* Source video https://www.youtube.com/watch?v=Sb0A9i6d320&ab_channel=CodingIsFun"
   ]
  },
  {
   "cell_type": "markdown",
   "id": "318b4ba7-8989-4815-b2cc-903c12a29c3a",
   "metadata": {
    "tags": []
   },
   "source": [
    "## Main Py"
   ]
  },
  {
   "cell_type": "markdown",
   "id": "f5210d0e-e338-478e-bc74-5b2c25c55680",
   "metadata": {},
   "source": [
    "#### Import modules"
   ]
  },
  {
   "cell_type": "code",
   "execution_count": 1,
   "id": "22992a5d-daeb-40b3-8e8a-4fd8ff3c6718",
   "metadata": {},
   "outputs": [
    {
     "ename": "ModuleNotFoundError",
     "evalue": "No module named 'pandas'",
     "output_type": "error",
     "traceback": [
      "\u001b[0;31m---------------------------------------------------------------------------\u001b[0m",
      "\u001b[0;31mModuleNotFoundError\u001b[0m                       Traceback (most recent call last)",
      "Cell \u001b[0;32mIn [1], line 2\u001b[0m\n\u001b[1;32m      1\u001b[0m \u001b[38;5;66;03m#MODULES\u001b[39;00m\n\u001b[0;32m----> 2\u001b[0m \u001b[38;5;28;01mimport\u001b[39;00m \u001b[38;5;21;01mpandas\u001b[39;00m \u001b[38;5;28;01mas\u001b[39;00m \u001b[38;5;21;01mpd\u001b[39;00m  \u001b[38;5;66;03m#we need pandas for dataframes,  pip install pandas\u001b[39;00m\n\u001b[1;32m      3\u001b[0m \u001b[38;5;28;01mimport\u001b[39;00m \u001b[38;5;21;01mplotly\u001b[39;00m\u001b[38;5;21;01m.\u001b[39;00m\u001b[38;5;21;01mexpress\u001b[39;00m \u001b[38;5;28;01mas\u001b[39;00m \u001b[38;5;21;01mpx\u001b[39;00m  \u001b[38;5;66;03m#we need ploty for graphs, pip install plotly-express\u001b[39;00m\n\u001b[1;32m      4\u001b[0m \u001b[38;5;28;01mimport\u001b[39;00m \u001b[38;5;21;01mstreamlit\u001b[39;00m \u001b[38;5;28;01mas\u001b[39;00m \u001b[38;5;21;01mst\u001b[39;00m\n",
      "\u001b[0;31mModuleNotFoundError\u001b[0m: No module named 'pandas'"
     ]
    }
   ],
   "source": [
    "#MODULES\n",
    "import pandas as pd  #we need pandas for dataframes,  pip install pandas\n",
    "import plotly.express as px  #we need ploty for graphs, pip install plotly-express\n",
    "import streamlit as st  #we need streamlit for visualisation, pip install streamlit"
   ]
  },
  {
   "cell_type": "markdown",
   "id": "f3ae8cb1-e0f2-4da3-82cc-28d1b7e6670f",
   "metadata": {},
   "source": [
    "#### Set the page view"
   ]
  },
  {
   "cell_type": "code",
   "execution_count": null,
   "id": "55d8f808-57b9-4870-aa53-2464a1e5a240",
   "metadata": {},
   "outputs": [],
   "source": [
    "#View\n",
    "st.set_page_config(\n",
    "    page_title=\"Sales Dashboard\", #Web page title\n",
    "    page_icon=\":bar_chart:\", #Web page icon\n",
    "    layout=\"wide\")  #Web page layout"
   ]
  },
  {
   "cell_type": "markdown",
   "id": "3ffbc1f0-0dfa-4322-8e1d-d9cc59379801",
   "metadata": {},
   "source": [
    "#### Get dataframe"
   ]
  },
  {
   "cell_type": "code",
   "execution_count": null,
   "id": "8c608d5e-a286-4a9e-b922-0babb003f80d",
   "metadata": {},
   "outputs": [],
   "source": [
    "@st.cache\n",
    "def get_data_from_excel():  #strores information in the cache\n",
    "    #DATA IMPORT\n",
    "    df = pd.read_excel(\n",
    "        io=\"supermarkt_sales.xlsx\",\n",
    "        engine=\"openpyxl\",\n",
    "        sheet_name=\"Sales\",\n",
    "        skiprows=3,\n",
    "        usecols=\"B:R\",\n",
    "        nrows=1000)\n",
    "\n",
    "    # st.dataframe(df)  #returns the dataframe\n",
    "\n",
    "    df[\"hour\"] = pd.to_datetime(df[\"Time\"], format=\"%H:%M:%S\").dt.hour  #Adds 'hour\" column to dataframe 24hr format\n",
    "    return df\n",
    "\n",
    "df = get_data_from_excel()"
   ]
  },
  {
   "cell_type": "markdown",
   "id": "b56ea47a-0f30-4b6f-a056-29627489df29",
   "metadata": {},
   "source": [
    "### Sidebar"
   ]
  },
  {
   "cell_type": "code",
   "execution_count": null,
   "id": "0682785b-a694-4430-9c12-710a36a0ac21",
   "metadata": {},
   "outputs": [],
   "source": [
    "#SIDEBAR\n",
    "\n",
    "#Filter setup\n",
    "#FILTER HEADER\n",
    "st.sidebar.header(\"Filter data\")\n",
    "\n",
    "#FILTER\n",
    "city = st.sidebar.multiselect(  #Variable defirnition\n",
    "    \"By City:\",  #Title of the filter\n",
    "    options=df[\"City\"].unique(),  #Column to filter\n",
    "    default=df[\"City\"].unique()  #Set default value to all\n",
    ")\n",
    "\n",
    "#FILTER\n",
    "customer_type = st.sidebar.multiselect(  #Variable defirnition\n",
    "    \"By Customer type:\",  #Title of the filter\n",
    "    options=df[\"Customer_type\"].unique(),  #Column to filter\n",
    "    default=df[\"Customer_type\"].unique()  #Set default value to all\n",
    ")\n",
    "\n",
    "#FILTER\n",
    "gender = st.sidebar.multiselect(  #Variable defirnition\n",
    "    \"By Gender:\",  #Title of the filter\n",
    "    options=df[\"Gender\"].unique(),  #Column to filter\n",
    "    default=df[\"Gender\"].unique()  #Set default value to all\n",
    ")\n",
    "\n",
    "#FILTER\n",
    "payment = st.sidebar.multiselect(  #Variable defirnition\n",
    "    \"By Payment method:\",  #Title of the filter\n",
    "    options=df[\"Payment\"].unique(),  #Column to filter\n",
    "    default=df[\"Payment\"].unique()  #Set default value to all\n",
    ")"
   ]
  },
  {
   "cell_type": "markdown",
   "id": "8bb5c773-a30a-4d5f-aedc-9bbc5c779c38",
   "metadata": {},
   "source": [
    "#### Filtered information\n",
    "ater we apply the filter, use this value for everything"
   ]
  },
  {
   "cell_type": "code",
   "execution_count": null,
   "id": "4643f5dc-69ed-4d00-b549-e7d1c20f0c1d",
   "metadata": {},
   "outputs": [],
   "source": [
    "#Filtered information\n",
    "df_filtered_data = df.query(\n",
    "    \"City == @city & Customer_type == @customer_type & Gender == @gender & Payment == @payment\"\n",
    ")"
   ]
  },
  {
   "cell_type": "markdown",
   "id": "b3afdb2c-e2f5-492d-a97e-5ecba139634d",
   "metadata": {},
   "source": [
    "### Main page"
   ]
  },
  {
   "cell_type": "code",
   "execution_count": null,
   "id": "b44740c3-8d49-473e-88eb-9be5aadc30d7",
   "metadata": {},
   "outputs": [],
   "source": [
    "#MAINPAGE\n",
    "st.title(\"Sales Dashboard\")\n",
    "st.markdown(\"##\")"
   ]
  },
  {
   "cell_type": "markdown",
   "id": "f0bcb370-5c89-4002-b671-31dcedc6bfb2",
   "metadata": {},
   "source": [
    "#### Section 1 KPI"
   ]
  },
  {
   "cell_type": "code",
   "execution_count": null,
   "id": "d81efbf9-9aa0-4917-a395-a09a35bb1234",
   "metadata": {},
   "outputs": [],
   "source": [
    "#KPI\n",
    "sales_total = int(df_filtered_data[\"Total\"].sum())  #return the sum of the total column\n",
    "rating_average = round(df_filtered_data[\"Rating\"].mean(),1)  #returns the average rating\n",
    "rating_star = \":star:\" * int(round(rating_average,0))\n",
    "sales_by_transaction_average = round(df_filtered_data[\"Total\"].mean(),2)\n",
    "\n",
    "column_1, column_2, column_3 = st.columns(3)\n",
    "with column_1:\n",
    "    st.subheader(\"Total Sales:\")\n",
    "    st.subheader(f\"US ${sales_total:,}\")\n",
    "with column_2:\n",
    "    st.subheader(\"Average Rating:\")\n",
    "    st.subheader(f\"{rating_average} {rating_star}\")\n",
    "with column_3:\n",
    "    st.subheader(\"Average sales per transaction\")\n",
    "    st.subheader(f\"US ${sales_by_transaction_average:,}\")"
   ]
  },
  {
   "cell_type": "code",
   "execution_count": null,
   "id": "b4d5b50d-8c56-4dff-8c82-b8b00e15df3d",
   "metadata": {},
   "outputs": [],
   "source": [
    "st.markdown(\"---\")"
   ]
  },
  {
   "cell_type": "markdown",
   "id": "efe50c2a-cd93-4a44-9381-a203bb956abc",
   "metadata": {
    "tags": []
   },
   "source": [
    "#### Section 2 Charts"
   ]
  },
  {
   "cell_type": "code",
   "execution_count": null,
   "id": "2f6055e9-5c25-4f5d-9efb-6d95a6d35397",
   "metadata": {},
   "outputs": [],
   "source": [
    "#Chart\n",
    "sales_by_product_line = (\n",
    "    df_filtered_data.groupby(by=[\"Product line\"]).sum()[[\"Total\"]].sort_values(by=\"Total\")\n",
    ")\n",
    "\n",
    "sales_by_product_line_chart = px.bar(\n",
    "    sales_by_product_line,\n",
    "    x=\"Total\",\n",
    "    y=sales_by_product_line.index,\n",
    "    orientation=\"h\",\n",
    "    title=\"<b>Sales by Product Line Chart</b>\",\n",
    "    color_discrete_sequence=[\"#3783A1\"] * len(sales_by_product_line),\n",
    "    template=\"plotly_white\",\n",
    ")\n",
    "\n",
    "sales_by_product_line_chart.update_layout(\n",
    "    plot_bgcolor=\"rgba(0,0,0,0)\",\n",
    "    xaxis=(dict(showgrid=False))\n",
    ")\n",
    "\n",
    "#Chart\n",
    "sales_by_hour = (\n",
    "    df_filtered_data.groupby(by=[\"hour\"]).sum()[[\"Total\"]]\n",
    ")\n",
    "\n",
    "sales_by_hour_chart = px.line(\n",
    "    sales_by_hour,\n",
    "    x=sales_by_hour.index,\n",
    "    y=\"Total\",\n",
    "    title=\"<b>Sales by hour Chart</b>\",\n",
    "    color_discrete_sequence=[\"#3783A1\"] * len(sales_by_product_line),\n",
    "    template=\"plotly_white\",\n",
    ")\n",
    "\n",
    "sales_by_hour_chart.update_layout(\n",
    "    xaxis=dict(tickmode=\"linear\"),\n",
    "    plot_bgcolor=\"rgba(0,0,0,0)\",\n",
    "    yaxis=(dict(showgrid=False)),\n",
    ")\n",
    "\n",
    "column_1, column_2 = st.columns(2)  #arrange charts next to each other\n",
    "column_1.plotly_chart(sales_by_product_line_chart, use_container_width=True)\n",
    "column_2.plotly_chart(sales_by_hour_chart, use_container_width=True)"
   ]
  },
  {
   "cell_type": "markdown",
   "id": "da8c0dc8-4b60-4eb0-8f65-860de20551da",
   "metadata": {},
   "source": [
    "#### Section 3"
   ]
  },
  {
   "cell_type": "code",
   "execution_count": null,
   "id": "e0ceea0a-1e62-4254-9575-6a7b87ebe639",
   "metadata": {},
   "outputs": [],
   "source": [
    "#Hide streamlit style\n",
    "st_style = \"\"\"\n",
    "<style>\n",
    "#MainMenu {visibility:hidden;}\n",
    "footer {visibility:hidden;}\n",
    "header {visibility:hidden;}\n",
    "</style> \n",
    "\"\"\"\n",
    "\n",
    "st.markdown(st_style, unsafe_allow_html=True)\n",
    "\n",
    "st.dataframe(df_filtered_data)  #returns the dataframe"
   ]
  },
  {
   "cell_type": "markdown",
   "id": "5f264845-68df-4a9c-8411-307336492346",
   "metadata": {},
   "source": [
    "## Setup"
   ]
  },
  {
   "cell_type": "markdown",
   "id": "574d7bfc-760a-4137-89d2-efd32ea4c271",
   "metadata": {},
   "source": [
    "have to make a folder that contains this file\n",
    "* .streamlit/\n",
    "  * config.toml"
   ]
  },
  {
   "cell_type": "code",
   "execution_count": null,
   "id": "b0a1790b-36b8-42dd-b166-d4b04249d06f",
   "metadata": {},
   "outputs": [],
   "source": [
    "\n",
    "[theme]\n",
    "# Primary accent color for interactive elements.\n",
    "primaryColor = \"#1D4454\"\n",
    "\n",
    "# Background color for the main content area.\n",
    "backgroundColor = \"#FAFCFD\"\n",
    "\n",
    "# Background color used for the sidebar and most interactive widgets.\n",
    "secondaryBackgroundColor = \"#6FB3CE\"\n",
    "\n",
    "# Color used for almost all text.\n",
    "textColor = \"#0A2A37\"\n",
    "\n",
    "# Font family for all text in the app, except code blocks. One of \"sans serif\", \"serif\", or \"monospace\".\n",
    "# Default: \"sans serif\"\n",
    "font = \"sans serif\""
   ]
  },
  {
   "cell_type": "code",
   "execution_count": null,
   "id": "b64b3278-98a8-46af-8bea-77c41ee2a7d2",
   "metadata": {},
   "outputs": [],
   "source": []
  }
 ],
 "metadata": {
  "kernelspec": {
   "display_name": "Python 3 (ipykernel)",
   "language": "python",
   "name": "python3"
  },
  "language_info": {
   "codemirror_mode": {
    "name": "ipython",
    "version": 3
   },
   "file_extension": ".py",
   "mimetype": "text/x-python",
   "name": "python",
   "nbconvert_exporter": "python",
   "pygments_lexer": "ipython3",
   "version": "3.10.6"
  },
  "vscode": {
   "interpreter": {
    "hash": "99f95658a4cfb7008ce30911e2e9e3cdcd6a4e4ebfb5d13eef015f4b61d7159b"
   }
  }
 },
 "nbformat": 4,
 "nbformat_minor": 5
}
