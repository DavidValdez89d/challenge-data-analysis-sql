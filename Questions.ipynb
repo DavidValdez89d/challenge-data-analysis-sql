{
 "cells": [
  {
   "cell_type": "code",
   "execution_count": 1,
   "id": "a5632b7d-2904-4864-af3e-68c697ad8755",
   "metadata": {},
   "outputs": [],
   "source": [
    "#MODULES\n",
    "import pandas as pd  #we need pandas for dataframes,  pip install pandas\n",
    "import numpy as np\n",
    "\n",
    "import seaborn as sns\n",
    "import plotly.express as px  #we need ploty for graphs, pip install plotly-express\n",
    "\n",
    "import sqlite3  #Not in use"
   ]
  },
  {
   "cell_type": "markdown",
   "id": "14549a74-1e87-4d48-8c29-21a426a4640c",
   "metadata": {
    "tags": []
   },
   "source": [
    "## <span style=\"color:darkviolet\">**Dataframes**"
   ]
  },
  {
   "cell_type": "code",
   "execution_count": 2,
   "id": "ab10406f-4dc0-4c87-bb87-7efc419cbcda",
   "metadata": {},
   "outputs": [],
   "source": [
    "csv_activity = pd.read_csv('CSV/activity.csv')\n",
    "csv_address = pd.read_csv('CSV/address.csv',low_memory=False)\n",
    "csv_branch = pd.read_csv('CSV/branch.csv')\n",
    "csv_code = pd.read_csv('CSV/code.csv')\n",
    "csv_contact = pd.read_csv('CSV/contact.csv')\n",
    "csv_denomination = pd.read_csv('CSV/denomination.csv')\n",
    "csv_enterprise = pd.read_csv('CSV/enterprise.csv')\n",
    "csv_establishment = pd.read_csv('CSV/establishment.csv')\n",
    "csv_meta = pd.read_csv('CSV/meta.csv')"
   ]
  },
  {
   "cell_type": "code",
   "execution_count": 3,
   "id": "579b39b1-f58f-4690-a4c7-54a7eb283e0c",
   "metadata": {},
   "outputs": [],
   "source": [
    "df_activity = csv_activity\n",
    "df_address = csv_address\n",
    "df_branch = csv_branch\n",
    "df_code = csv_code\n",
    "df_contact = csv_contact\n",
    "df_denomination = csv_denomination\n",
    "df_enterprise = csv_enterprise\n",
    "df_establishment = csv_establishment\n",
    "df_meta = csv_meta"
   ]
  },
  {
   "cell_type": "markdown",
   "id": "b9d014b6-58b3-4d31-a3dc-c59224e83248",
   "metadata": {
    "tags": []
   },
   "source": [
    "## <span style=\"color:darkviolet\">**Questions**"
   ]
  },
  {
   "cell_type": "code",
   "execution_count": 4,
   "id": "6483353d-e0ce-4b36-ac88-c3a57655e03d",
   "metadata": {},
   "outputs": [],
   "source": [
    "df_enterprise['PercentageQ1'] = 1 / df_enterprise.shape[0]"
   ]
  },
  {
   "cell_type": "markdown",
   "id": "766823fb-cae8-4597-a756-eb6eac8c2582",
   "metadata": {
    "tags": []
   },
   "source": [
    "#### <span style=\"color:darkviolet\">**Q1 Which percentage of the companies are under which juridical form?**"
   ]
  },
  {
   "cell_type": "code",
   "execution_count": 5,
   "id": "6c1ee266-9825-4ccc-b0da-29a7c047d875",
   "metadata": {},
   "outputs": [
    {
     "name": "stderr",
     "output_type": "stream",
     "text": [
      "/tmp/ipykernel_10762/409500052.py:1: FutureWarning: The default value of numeric_only in DataFrameGroupBy.sum is deprecated. In a future version, numeric_only will default to False. Either specify numeric_only or select only columns which should be valid for the function.\n",
      "  df_q1 =  df_enterprise.groupby('JuridicalForm').sum().sort_values(by='PercentageQ1',ascending=False)\n"
     ]
    }
   ],
   "source": [
    "df_q1 =  df_enterprise.groupby('JuridicalForm').sum().sort_values(by='PercentageQ1',ascending=False)"
   ]
  },
  {
   "cell_type": "code",
   "execution_count": 6,
   "id": "2787b51e-ce69-40c9-9b14-afcd53a700f8",
   "metadata": {},
   "outputs": [],
   "source": [
    "df_JuridicalForm = df_code.loc[(df_code['Category'] == 'JuridicalForm') & (df_code['Language'] == 'FR')]\n",
    "df_JuridicalForm = df_JuridicalForm.rename(columns ={'Category':'Category','Code':'JuridicalForm','Language':'Language','Description':'Description'})\n",
    "df_JuridicalForm = df_JuridicalForm.drop(columns=['Category','Language'],axis=1)\n",
    "df_JuridicalForm['JuridicalForm'] = df_JuridicalForm['JuridicalForm'].astype(int)"
   ]
  },
  {
   "cell_type": "code",
   "execution_count": 7,
   "id": "27e508f8-dc57-48dc-8b1a-c637c86cf3c5",
   "metadata": {},
   "outputs": [],
   "source": [
    "df_q1 = pd.merge(df_q1, df_JuridicalForm,\n",
    "    how='left', on='JuridicalForm')"
   ]
  },
  {
   "cell_type": "code",
   "execution_count": 8,
   "id": "f09284b6-e0ba-42a0-a7ce-1572c7247f31",
   "metadata": {},
   "outputs": [
    {
     "data": {
      "text/html": [
       "<div>\n",
       "<style scoped>\n",
       "    .dataframe tbody tr th:only-of-type {\n",
       "        vertical-align: middle;\n",
       "    }\n",
       "\n",
       "    .dataframe tbody tr th {\n",
       "        vertical-align: top;\n",
       "    }\n",
       "\n",
       "    .dataframe thead th {\n",
       "        text-align: right;\n",
       "    }\n",
       "</style>\n",
       "<table border=\"1\" class=\"dataframe\">\n",
       "  <thead>\n",
       "    <tr style=\"text-align: right;\">\n",
       "      <th></th>\n",
       "      <th>JuridicalForm</th>\n",
       "      <th>Description</th>\n",
       "      <th>PercentageQ1</th>\n",
       "    </tr>\n",
       "  </thead>\n",
       "  <tbody>\n",
       "    <tr>\n",
       "      <th>0</th>\n",
       "      <td>15.0</td>\n",
       "      <td>Société privée à responsabilité limitée</td>\n",
       "      <td>1.913329e-01</td>\n",
       "    </tr>\n",
       "    <tr>\n",
       "      <th>1</th>\n",
       "      <td>610.0</td>\n",
       "      <td>Société à responsabilité limitée</td>\n",
       "      <td>9.156214e-02</td>\n",
       "    </tr>\n",
       "    <tr>\n",
       "      <th>2</th>\n",
       "      <td>17.0</td>\n",
       "      <td>Association sans but lucratif</td>\n",
       "      <td>7.533709e-02</td>\n",
       "    </tr>\n",
       "    <tr>\n",
       "      <th>3</th>\n",
       "      <td>14.0</td>\n",
       "      <td>Société anonyme</td>\n",
       "      <td>5.315055e-02</td>\n",
       "    </tr>\n",
       "    <tr>\n",
       "      <th>4</th>\n",
       "      <td>70.0</td>\n",
       "      <td>Association des copropriétaires</td>\n",
       "      <td>5.045640e-02</td>\n",
       "    </tr>\n",
       "    <tr>\n",
       "      <th>...</th>\n",
       "      <td>...</td>\n",
       "      <td>...</td>\n",
       "      <td>...</td>\n",
       "    </tr>\n",
       "    <tr>\n",
       "      <th>102</th>\n",
       "      <td>127.0</td>\n",
       "      <td>Monts-de-Piété</td>\n",
       "      <td>5.366845e-07</td>\n",
       "    </tr>\n",
       "    <tr>\n",
       "      <th>103</th>\n",
       "      <td>373.0</td>\n",
       "      <td>Ministère des Classes moyennes</td>\n",
       "      <td>5.366845e-07</td>\n",
       "    </tr>\n",
       "    <tr>\n",
       "      <th>104</th>\n",
       "      <td>387.0</td>\n",
       "      <td>Ministère de la Région de Bruxelles-Capitale</td>\n",
       "      <td>5.366845e-07</td>\n",
       "    </tr>\n",
       "    <tr>\n",
       "      <th>105</th>\n",
       "      <td>371.0</td>\n",
       "      <td>Ministère des Affaires étrangères, Commerce ex...</td>\n",
       "      <td>5.366845e-07</td>\n",
       "    </tr>\n",
       "    <tr>\n",
       "      <th>106</th>\n",
       "      <td>608.0</td>\n",
       "      <td>Société coopérative à responsabilité limitée à...</td>\n",
       "      <td>5.366845e-07</td>\n",
       "    </tr>\n",
       "  </tbody>\n",
       "</table>\n",
       "<p>107 rows × 3 columns</p>\n",
       "</div>"
      ],
      "text/plain": [
       "     JuridicalForm                                        Description  \\\n",
       "0             15.0            Société privée à responsabilité limitée   \n",
       "1            610.0                   Société à responsabilité limitée   \n",
       "2             17.0                      Association sans but lucratif   \n",
       "3             14.0                                    Société anonyme   \n",
       "4             70.0                    Association des copropriétaires   \n",
       "..             ...                                                ...   \n",
       "102          127.0                                     Monts-de-Piété   \n",
       "103          373.0                     Ministère des Classes moyennes   \n",
       "104          387.0       Ministère de la Région de Bruxelles-Capitale   \n",
       "105          371.0  Ministère des Affaires étrangères, Commerce ex...   \n",
       "106          608.0  Société coopérative à responsabilité limitée à...   \n",
       "\n",
       "     PercentageQ1  \n",
       "0    1.913329e-01  \n",
       "1    9.156214e-02  \n",
       "2    7.533709e-02  \n",
       "3    5.315055e-02  \n",
       "4    5.045640e-02  \n",
       "..            ...  \n",
       "102  5.366845e-07  \n",
       "103  5.366845e-07  \n",
       "104  5.366845e-07  \n",
       "105  5.366845e-07  \n",
       "106  5.366845e-07  \n",
       "\n",
       "[107 rows x 3 columns]"
      ]
     },
     "execution_count": 8,
     "metadata": {},
     "output_type": "execute_result"
    }
   ],
   "source": [
    "df_q1 = df_q1[['JuridicalForm','Description','PercentageQ1']]\n",
    "df_q1"
   ]
  },
  {
   "cell_type": "markdown",
   "id": "d29e50a6-6d45-4cda-9334-42fc415cee45",
   "metadata": {},
   "source": [
    "* <span style=\"color:blue\">**See table of results**</span>"
   ]
  },
  {
   "cell_type": "markdown",
   "id": "13246b89-3aaa-45c3-b8b2-8616c15fb9cc",
   "metadata": {
    "tags": []
   },
   "source": [
    "#### <span style=\"color:darkviolet\">**Q2 Which percentage of the companies are under which Status?**"
   ]
  },
  {
   "cell_type": "code",
   "execution_count": 9,
   "id": "23007846-5d69-4c78-942e-af4f9efe642f",
   "metadata": {},
   "outputs": [
    {
     "data": {
      "text/plain": [
       "AC    1863292\n",
       "Name: Status, dtype: int64"
      ]
     },
     "execution_count": 9,
     "metadata": {},
     "output_type": "execute_result"
    }
   ],
   "source": [
    "df_q2 = df_enterprise\n",
    "df_q2['Status'].value_counts()"
   ]
  },
  {
   "cell_type": "markdown",
   "id": "08c24cdc-19a4-49a4-a7e8-eb8e1d9d8ad0",
   "metadata": {},
   "source": [
    "* <span style=\"color:blue\">**All companies are under Active (AC) Status**</span>"
   ]
  },
  {
   "cell_type": "markdown",
   "id": "d7188f40-9792-42d2-b57c-9a6972893f8a",
   "metadata": {
    "tags": []
   },
   "source": [
    "#### <span style=\"color:darkviolet\">**Q3 Which percentage of the companies are which type of entreprise?**"
   ]
  },
  {
   "cell_type": "code",
   "execution_count": 10,
   "id": "2e842990-f32c-4970-b0f5-adb977dfe019",
   "metadata": {},
   "outputs": [
    {
     "data": {
      "text/plain": [
       "2    1099649\n",
       "1     763643\n",
       "Name: TypeOfEnterprise, dtype: int64"
      ]
     },
     "execution_count": 10,
     "metadata": {},
     "output_type": "execute_result"
    }
   ],
   "source": [
    "df_q3 = df_enterprise\n",
    "df_q3['TypeOfEnterprise'].value_counts()"
   ]
  },
  {
   "cell_type": "code",
   "execution_count": 11,
   "id": "cbd556bb-3d69-46f6-b5c0-66a7dd0fb667",
   "metadata": {},
   "outputs": [
    {
     "name": "stderr",
     "output_type": "stream",
     "text": [
      "/tmp/ipykernel_10762/3048787412.py:1: FutureWarning: The default value of numeric_only in DataFrameGroupBy.sum is deprecated. In a future version, numeric_only will default to False. Either specify numeric_only or select only columns which should be valid for the function.\n",
      "  df_q3.groupby('TypeOfEnterprise').sum()\n"
     ]
    },
    {
     "data": {
      "text/html": [
       "<div>\n",
       "<style scoped>\n",
       "    .dataframe tbody tr th:only-of-type {\n",
       "        vertical-align: middle;\n",
       "    }\n",
       "\n",
       "    .dataframe tbody tr th {\n",
       "        vertical-align: top;\n",
       "    }\n",
       "\n",
       "    .dataframe thead th {\n",
       "        text-align: right;\n",
       "    }\n",
       "</style>\n",
       "<table border=\"1\" class=\"dataframe\">\n",
       "  <thead>\n",
       "    <tr style=\"text-align: right;\">\n",
       "      <th></th>\n",
       "      <th>JuridicalSituation</th>\n",
       "      <th>JuridicalForm</th>\n",
       "      <th>PercentageQ1</th>\n",
       "    </tr>\n",
       "    <tr>\n",
       "      <th>TypeOfEnterprise</th>\n",
       "      <th></th>\n",
       "      <th></th>\n",
       "      <th></th>\n",
       "    </tr>\n",
       "  </thead>\n",
       "  <tbody>\n",
       "    <tr>\n",
       "      <th>1</th>\n",
       "      <td>269066</td>\n",
       "      <td>0.0</td>\n",
       "      <td>0.409835</td>\n",
       "    </tr>\n",
       "    <tr>\n",
       "      <th>2</th>\n",
       "      <td>3926293</td>\n",
       "      <td>159550652.0</td>\n",
       "      <td>0.590165</td>\n",
       "    </tr>\n",
       "  </tbody>\n",
       "</table>\n",
       "</div>"
      ],
      "text/plain": [
       "                  JuridicalSituation  JuridicalForm  PercentageQ1\n",
       "TypeOfEnterprise                                                 \n",
       "1                             269066            0.0      0.409835\n",
       "2                            3926293    159550652.0      0.590165"
      ]
     },
     "execution_count": 11,
     "metadata": {},
     "output_type": "execute_result"
    }
   ],
   "source": [
    "df_q3.groupby('TypeOfEnterprise').sum()"
   ]
  },
  {
   "cell_type": "markdown",
   "id": "1f9d964c-56d7-4ed8-b54e-f287613d9796",
   "metadata": {},
   "source": [
    "* <span style=\"color:blue\">**41% Personne physique**</span>\n",
    "* <span style=\"color:blue\">**59% Personne morale**</span>"
   ]
  },
  {
   "cell_type": "markdown",
   "id": "85a2c471-61a3-4ea5-ad12-6e66c8686ca1",
   "metadata": {},
   "source": [
    "#### <span style=\"color:darkviolet\">**Q4 What is the average company's age in each sector (hint: look what is the NACE code)?**"
   ]
  },
  {
   "cell_type": "code",
   "execution_count": 12,
   "id": "ab99d2cb-cc87-4f66-8b9f-413b806e7eb7",
   "metadata": {},
   "outputs": [],
   "source": [
    "df_q4 = df_activity"
   ]
  },
  {
   "cell_type": "code",
   "execution_count": 13,
   "id": "513afb13-be20-4193-a022-525e6358804d",
   "metadata": {
    "tags": []
   },
   "outputs": [],
   "source": [
    "#Lose the Nace 2003 from the table\n",
    "df_q4 = df_q4.query('NaceVersion == 2008') "
   ]
  },
  {
   "cell_type": "code",
   "execution_count": 14,
   "id": "99484f7b-e8a0-416c-bb51-f57c0430ed55",
   "metadata": {},
   "outputs": [
    {
     "data": {
      "text/plain": [
       "3302541"
      ]
     },
     "execution_count": 14,
     "metadata": {},
     "output_type": "execute_result"
    }
   ],
   "source": [
    "#original rows, just Nace2008\n",
    "x = 19515324 - 16212783\n",
    "x"
   ]
  },
  {
   "cell_type": "code",
   "execution_count": 15,
   "id": "5b2a3e11-3636-4bdb-8ec4-b7cb36ab8daf",
   "metadata": {},
   "outputs": [],
   "source": [
    "df_q4_enterprise = df_enterprise.drop([\"Status\",\"JuridicalSituation\",\"TypeOfEnterprise\",\"JuridicalForm\"], axis=1)\n",
    "df_q4_enterprise['age'] = pd.Timestamp('now') - (pd.to_datetime(df_q4_enterprise['StartDate'], format='%Y-%m-%d %H:%M:%S'))\n",
    "df_q4_enterprise['age'] = df_q4_enterprise['age'].astype(\"timedelta64[D]\")/ 365.2425\n",
    "df_q4_enterprise = df_q4_enterprise.drop(['StartDate','PercentageQ1'], axis=1)\n",
    "df_q4_enterprise = df_q4_enterprise.rename(columns={'EnterpriseNumber':\t'EntityNumber','age':'age'})"
   ]
  },
  {
   "cell_type": "code",
   "execution_count": 16,
   "id": "51625abe-7da5-40e4-a48a-ed6bf60cd0a1",
   "metadata": {},
   "outputs": [],
   "source": [
    "df_q4 = pd.merge(df_q4, df_q4_enterprise,\n",
    "    how='left', on='EntityNumber')"
   ]
  },
  {
   "cell_type": "code",
   "execution_count": 17,
   "id": "7c005a99-b5aa-4941-8b3d-687af1320958",
   "metadata": {},
   "outputs": [
    {
     "data": {
      "text/plain": [
       "13214541"
      ]
     },
     "execution_count": 17,
     "metadata": {},
     "output_type": "execute_result"
    }
   ],
   "source": [
    "df_q4['age'].isna().sum()"
   ]
  },
  {
   "cell_type": "code",
   "execution_count": 18,
   "id": "c33f591c-03f3-446d-bc5d-9c71b6e9bde6",
   "metadata": {},
   "outputs": [],
   "source": [
    "x = 13214541 / 16212783"
   ]
  },
  {
   "cell_type": "code",
   "execution_count": 19,
   "id": "1af4255c-c28e-4011-8ebb-d299a3e994c7",
   "metadata": {},
   "outputs": [],
   "source": [
    "df_q4 = df_q4.dropna(subset='age')"
   ]
  },
  {
   "cell_type": "code",
   "execution_count": 20,
   "id": "59d7902d-5705-4ef5-a105-3f997f4bc93b",
   "metadata": {},
   "outputs": [
    {
     "data": {
      "text/html": [
       "<div>\n",
       "<style scoped>\n",
       "    .dataframe tbody tr th:only-of-type {\n",
       "        vertical-align: middle;\n",
       "    }\n",
       "\n",
       "    .dataframe tbody tr th {\n",
       "        vertical-align: top;\n",
       "    }\n",
       "\n",
       "    .dataframe thead th {\n",
       "        text-align: right;\n",
       "    }\n",
       "</style>\n",
       "<table border=\"1\" class=\"dataframe\">\n",
       "  <thead>\n",
       "    <tr style=\"text-align: right;\">\n",
       "      <th></th>\n",
       "      <th>EntityNumber</th>\n",
       "      <th>ActivityGroup</th>\n",
       "      <th>NaceVersion</th>\n",
       "      <th>NaceCode</th>\n",
       "      <th>Classification</th>\n",
       "      <th>age</th>\n",
       "    </tr>\n",
       "  </thead>\n",
       "  <tbody>\n",
       "    <tr>\n",
       "      <th>0</th>\n",
       "      <td>0200.065.765</td>\n",
       "      <td>6</td>\n",
       "      <td>2008</td>\n",
       "      <td>84130</td>\n",
       "      <td>MAIN</td>\n",
       "      <td>62.213461</td>\n",
       "    </tr>\n",
       "    <tr>\n",
       "      <th>1</th>\n",
       "      <td>0200.065.765</td>\n",
       "      <td>1</td>\n",
       "      <td>2008</td>\n",
       "      <td>41101</td>\n",
       "      <td>MAIN</td>\n",
       "      <td>62.213461</td>\n",
       "    </tr>\n",
       "    <tr>\n",
       "      <th>2</th>\n",
       "      <td>0200.068.636</td>\n",
       "      <td>6</td>\n",
       "      <td>2008</td>\n",
       "      <td>36000</td>\n",
       "      <td>MAIN</td>\n",
       "      <td>99.692670</td>\n",
       "    </tr>\n",
       "    <tr>\n",
       "      <th>3</th>\n",
       "      <td>0200.068.636</td>\n",
       "      <td>1</td>\n",
       "      <td>2008</td>\n",
       "      <td>36000</td>\n",
       "      <td>MAIN</td>\n",
       "      <td>99.692670</td>\n",
       "    </tr>\n",
       "    <tr>\n",
       "      <th>4</th>\n",
       "      <td>0200.068.636</td>\n",
       "      <td>1</td>\n",
       "      <td>2008</td>\n",
       "      <td>93110</td>\n",
       "      <td>SECO</td>\n",
       "      <td>99.692670</td>\n",
       "    </tr>\n",
       "    <tr>\n",
       "      <th>...</th>\n",
       "      <td>...</td>\n",
       "      <td>...</td>\n",
       "      <td>...</td>\n",
       "      <td>...</td>\n",
       "      <td>...</td>\n",
       "      <td>...</td>\n",
       "    </tr>\n",
       "    <tr>\n",
       "      <th>2998239</th>\n",
       "      <td>0998.534.826</td>\n",
       "      <td>6</td>\n",
       "      <td>2008</td>\n",
       "      <td>63910</td>\n",
       "      <td>MAIN</td>\n",
       "      <td>24.816389</td>\n",
       "    </tr>\n",
       "    <tr>\n",
       "      <th>2998240</th>\n",
       "      <td>0998.549.771</td>\n",
       "      <td>6</td>\n",
       "      <td>2008</td>\n",
       "      <td>35110</td>\n",
       "      <td>MAIN</td>\n",
       "      <td>222.816348</td>\n",
       "    </tr>\n",
       "    <tr>\n",
       "      <th>2998241</th>\n",
       "      <td>0998.562.738</td>\n",
       "      <td>6</td>\n",
       "      <td>2008</td>\n",
       "      <td>62010</td>\n",
       "      <td>MAIN</td>\n",
       "      <td>23.573379</td>\n",
       "    </tr>\n",
       "    <tr>\n",
       "      <th>2998242</th>\n",
       "      <td>0998.576.495</td>\n",
       "      <td>1</td>\n",
       "      <td>2008</td>\n",
       "      <td>82990</td>\n",
       "      <td>MAIN</td>\n",
       "      <td>21.818381</td>\n",
       "    </tr>\n",
       "    <tr>\n",
       "      <th>2998243</th>\n",
       "      <td>0998.605.201</td>\n",
       "      <td>6</td>\n",
       "      <td>2008</td>\n",
       "      <td>63910</td>\n",
       "      <td>MAIN</td>\n",
       "      <td>20.819045</td>\n",
       "    </tr>\n",
       "  </tbody>\n",
       "</table>\n",
       "<p>2998242 rows × 6 columns</p>\n",
       "</div>"
      ],
      "text/plain": [
       "         EntityNumber  ActivityGroup  NaceVersion  NaceCode Classification  \\\n",
       "0        0200.065.765              6         2008     84130           MAIN   \n",
       "1        0200.065.765              1         2008     41101           MAIN   \n",
       "2        0200.068.636              6         2008     36000           MAIN   \n",
       "3        0200.068.636              1         2008     36000           MAIN   \n",
       "4        0200.068.636              1         2008     93110           SECO   \n",
       "...               ...            ...          ...       ...            ...   \n",
       "2998239  0998.534.826              6         2008     63910           MAIN   \n",
       "2998240  0998.549.771              6         2008     35110           MAIN   \n",
       "2998241  0998.562.738              6         2008     62010           MAIN   \n",
       "2998242  0998.576.495              1         2008     82990           MAIN   \n",
       "2998243  0998.605.201              6         2008     63910           MAIN   \n",
       "\n",
       "                age  \n",
       "0         62.213461  \n",
       "1         62.213461  \n",
       "2         99.692670  \n",
       "3         99.692670  \n",
       "4         99.692670  \n",
       "...             ...  \n",
       "2998239   24.816389  \n",
       "2998240  222.816348  \n",
       "2998241   23.573379  \n",
       "2998242   21.818381  \n",
       "2998243   20.819045  \n",
       "\n",
       "[2998242 rows x 6 columns]"
      ]
     },
     "execution_count": 20,
     "metadata": {},
     "output_type": "execute_result"
    }
   ],
   "source": [
    "df_q4"
   ]
  },
  {
   "cell_type": "code",
   "execution_count": 21,
   "id": "214521a8-3341-463b-aa63-78fecada6c2e",
   "metadata": {},
   "outputs": [
    {
     "data": {
      "text/plain": [
       "0          84\n",
       "1          41\n",
       "2          36\n",
       "3          36\n",
       "4          93\n",
       "           ..\n",
       "2998239    63\n",
       "2998240    35\n",
       "2998241    62\n",
       "2998242    82\n",
       "2998243    63\n",
       "Name: Nace_xx, Length: 2998242, dtype: object"
      ]
     },
     "execution_count": 21,
     "metadata": {},
     "output_type": "execute_result"
    }
   ],
   "source": [
    "df_q4['Nace_xx'] = df_q4['NaceCode'].apply(lambda x : str(x)[:2])\n",
    "df_q4['Nace_xx']"
   ]
  },
  {
   "cell_type": "code",
   "execution_count": 22,
   "id": "2c24d056-86d4-4e86-aad0-2f99626c110c",
   "metadata": {
    "tags": []
   },
   "outputs": [
    {
     "data": {
      "text/html": [
       "<div>\n",
       "<style scoped>\n",
       "    .dataframe tbody tr th:only-of-type {\n",
       "        vertical-align: middle;\n",
       "    }\n",
       "\n",
       "    .dataframe tbody tr th {\n",
       "        vertical-align: top;\n",
       "    }\n",
       "\n",
       "    .dataframe thead th {\n",
       "        text-align: right;\n",
       "    }\n",
       "</style>\n",
       "<table border=\"1\" class=\"dataframe\">\n",
       "  <thead>\n",
       "    <tr style=\"text-align: right;\">\n",
       "      <th></th>\n",
       "      <th>Nace_xx</th>\n",
       "      <th>Description</th>\n",
       "    </tr>\n",
       "  </thead>\n",
       "  <tbody>\n",
       "    <tr>\n",
       "      <th>8276</th>\n",
       "      <td>01</td>\n",
       "      <td>Culture et production animale, chasse et servi...</td>\n",
       "    </tr>\n",
       "    <tr>\n",
       "      <th>8524</th>\n",
       "      <td>02</td>\n",
       "      <td>Sylviculture et exploitation forestière</td>\n",
       "    </tr>\n",
       "    <tr>\n",
       "      <th>8562</th>\n",
       "      <td>03</td>\n",
       "      <td>Pêche et aquaculture</td>\n",
       "    </tr>\n",
       "    <tr>\n",
       "      <th>8596</th>\n",
       "      <td>05</td>\n",
       "      <td>Extraction de houille et de lignite</td>\n",
       "    </tr>\n",
       "    <tr>\n",
       "      <th>8614</th>\n",
       "      <td>06</td>\n",
       "      <td>Extraction d'hydrocarbures</td>\n",
       "    </tr>\n",
       "    <tr>\n",
       "      <th>...</th>\n",
       "      <td>...</td>\n",
       "      <td>...</td>\n",
       "    </tr>\n",
       "    <tr>\n",
       "      <th>14674</th>\n",
       "      <td>95</td>\n",
       "      <td>Réparation d'ordinateurs et de biens personnel...</td>\n",
       "    </tr>\n",
       "    <tr>\n",
       "      <th>14746</th>\n",
       "      <td>96</td>\n",
       "      <td>Autres services personnels</td>\n",
       "    </tr>\n",
       "    <tr>\n",
       "      <th>14852</th>\n",
       "      <td>97</td>\n",
       "      <td>Activités des ménages en tant qu'employeurs de...</td>\n",
       "    </tr>\n",
       "    <tr>\n",
       "      <th>14860</th>\n",
       "      <td>98</td>\n",
       "      <td>Activités indifférenciées des ménages en tant ...</td>\n",
       "    </tr>\n",
       "    <tr>\n",
       "      <th>14874</th>\n",
       "      <td>99</td>\n",
       "      <td>Activités des organisations et organismes extr...</td>\n",
       "    </tr>\n",
       "  </tbody>\n",
       "</table>\n",
       "<p>88 rows × 2 columns</p>\n",
       "</div>"
      ],
      "text/plain": [
       "      Nace_xx                                        Description\n",
       "8276       01  Culture et production animale, chasse et servi...\n",
       "8524       02            Sylviculture et exploitation forestière\n",
       "8562       03                               Pêche et aquaculture\n",
       "8596       05                Extraction de houille et de lignite\n",
       "8614       06                         Extraction d'hydrocarbures\n",
       "...       ...                                                ...\n",
       "14674      95  Réparation d'ordinateurs et de biens personnel...\n",
       "14746      96                         Autres services personnels\n",
       "14852      97  Activités des ménages en tant qu'employeurs de...\n",
       "14860      98  Activités indifférenciées des ménages en tant ...\n",
       "14874      99  Activités des organisations et organismes extr...\n",
       "\n",
       "[88 rows x 2 columns]"
      ]
     },
     "execution_count": 22,
     "metadata": {},
     "output_type": "execute_result"
    }
   ],
   "source": [
    "df_Nace2008 = df_code.loc[(df_code['Category'] == 'Nace2008') & (df_code['Language'] == 'FR')]\n",
    "df_Nace2008 = df_Nace2008.drop(columns=['Category','Language'],axis=1)\n",
    "df_Nace2008 = df_Nace2008.loc[(df_Nace2008['Code'].str.len() == 2)]\n",
    "df_Nace2008 = df_Nace2008.rename(columns={'Code':'Nace_xx','Description':'Description'})\n",
    "df_Nace2008"
   ]
  },
  {
   "cell_type": "code",
   "execution_count": 23,
   "id": "082259bb-b505-4135-82dc-ae55d455068c",
   "metadata": {},
   "outputs": [],
   "source": [
    "df_q4 = pd.merge(df_q4, df_Nace2008,\n",
    "    how='left', on='Nace_xx')"
   ]
  },
  {
   "cell_type": "code",
   "execution_count": 24,
   "id": "3e7efca7-da31-4b97-9588-874180190389",
   "metadata": {},
   "outputs": [
    {
     "name": "stderr",
     "output_type": "stream",
     "text": [
      "/tmp/ipykernel_10762/3999027158.py:1: FutureWarning: The default value of numeric_only in DataFrameGroupBy.mean is deprecated. In a future version, numeric_only will default to False. Either specify numeric_only or select only columns which should be valid for the function.\n",
      "  df_q4 = df_q4.groupby('Nace_xx').mean().sort_values(by='age',ascending=False)\n"
     ]
    }
   ],
   "source": [
    "df_q4 = df_q4.groupby('Nace_xx').mean().sort_values(by='age',ascending=False)"
   ]
  },
  {
   "cell_type": "code",
   "execution_count": 25,
   "id": "c1a58178-6ab1-4088-90b0-4f469aa804cd",
   "metadata": {},
   "outputs": [],
   "source": [
    "df_q4 = pd.merge(df_q4, df_Nace2008,\n",
    "    how='left', on='Nace_xx')"
   ]
  },
  {
   "cell_type": "code",
   "execution_count": 26,
   "id": "041e527e-cc52-4ade-a4a6-631a7392c34e",
   "metadata": {},
   "outputs": [
    {
     "data": {
      "text/html": [
       "<div>\n",
       "<style scoped>\n",
       "    .dataframe tbody tr th:only-of-type {\n",
       "        vertical-align: middle;\n",
       "    }\n",
       "\n",
       "    .dataframe tbody tr th {\n",
       "        vertical-align: top;\n",
       "    }\n",
       "\n",
       "    .dataframe thead th {\n",
       "        text-align: right;\n",
       "    }\n",
       "</style>\n",
       "<table border=\"1\" class=\"dataframe\">\n",
       "  <thead>\n",
       "    <tr style=\"text-align: right;\">\n",
       "      <th></th>\n",
       "      <th>Nace_xx</th>\n",
       "      <th>ActivityGroup</th>\n",
       "      <th>NaceVersion</th>\n",
       "      <th>NaceCode</th>\n",
       "      <th>age</th>\n",
       "      <th>Description</th>\n",
       "    </tr>\n",
       "  </thead>\n",
       "  <tbody>\n",
       "    <tr>\n",
       "      <th>0</th>\n",
       "      <td>84</td>\n",
       "      <td>4.478044</td>\n",
       "      <td>2008.0</td>\n",
       "      <td>84153.246174</td>\n",
       "      <td>39.419530</td>\n",
       "      <td>Administration publique et défense; sécurité s...</td>\n",
       "    </tr>\n",
       "    <tr>\n",
       "      <th>1</th>\n",
       "      <td>36</td>\n",
       "      <td>1.286624</td>\n",
       "      <td>2008.0</td>\n",
       "      <td>36000.000000</td>\n",
       "      <td>33.403390</td>\n",
       "      <td>Captage, traitement et distribution d'eau</td>\n",
       "    </tr>\n",
       "    <tr>\n",
       "      <th>2</th>\n",
       "      <td>99</td>\n",
       "      <td>5.023529</td>\n",
       "      <td>2008.0</td>\n",
       "      <td>87469.411765</td>\n",
       "      <td>28.664662</td>\n",
       "      <td>Activités des organisations et organismes extr...</td>\n",
       "    </tr>\n",
       "    <tr>\n",
       "      <th>3</th>\n",
       "      <td>94</td>\n",
       "      <td>4.157523</td>\n",
       "      <td>2008.0</td>\n",
       "      <td>94739.340801</td>\n",
       "      <td>28.449566</td>\n",
       "      <td>Activités des organisations associatives</td>\n",
       "    </tr>\n",
       "    <tr>\n",
       "      <th>4</th>\n",
       "      <td>19</td>\n",
       "      <td>1.555556</td>\n",
       "      <td>2008.0</td>\n",
       "      <td>19195.238095</td>\n",
       "      <td>28.416911</td>\n",
       "      <td>Cokéfaction et raffinage</td>\n",
       "    </tr>\n",
       "    <tr>\n",
       "      <th>...</th>\n",
       "      <td>...</td>\n",
       "      <td>...</td>\n",
       "      <td>...</td>\n",
       "      <td>...</td>\n",
       "      <td>...</td>\n",
       "      <td>...</td>\n",
       "    </tr>\n",
       "    <tr>\n",
       "      <th>76</th>\n",
       "      <td>82</td>\n",
       "      <td>1.104015</td>\n",
       "      <td>2008.0</td>\n",
       "      <td>82691.308046</td>\n",
       "      <td>8.022065</td>\n",
       "      <td>Services administratifs de bureau et autres ac...</td>\n",
       "    </tr>\n",
       "    <tr>\n",
       "      <th>77</th>\n",
       "      <td>85</td>\n",
       "      <td>1.246770</td>\n",
       "      <td>2008.0</td>\n",
       "      <td>85564.844061</td>\n",
       "      <td>7.954835</td>\n",
       "      <td>Enseignement</td>\n",
       "    </tr>\n",
       "    <tr>\n",
       "      <th>78</th>\n",
       "      <td>53</td>\n",
       "      <td>1.438962</td>\n",
       "      <td>2008.0</td>\n",
       "      <td>53183.300723</td>\n",
       "      <td>7.722184</td>\n",
       "      <td>Activités de poste et de courrier</td>\n",
       "    </tr>\n",
       "    <tr>\n",
       "      <th>79</th>\n",
       "      <td>63</td>\n",
       "      <td>1.078067</td>\n",
       "      <td>2008.0</td>\n",
       "      <td>63400.164715</td>\n",
       "      <td>7.675516</td>\n",
       "      <td>Services d'information</td>\n",
       "    </tr>\n",
       "    <tr>\n",
       "      <th>80</th>\n",
       "      <td>74</td>\n",
       "      <td>1.091792</td>\n",
       "      <td>2008.0</td>\n",
       "      <td>74372.705931</td>\n",
       "      <td>7.488066</td>\n",
       "      <td>Autres activités spécialisées, scientifiques e...</td>\n",
       "    </tr>\n",
       "  </tbody>\n",
       "</table>\n",
       "<p>81 rows × 6 columns</p>\n",
       "</div>"
      ],
      "text/plain": [
       "   Nace_xx  ActivityGroup  NaceVersion      NaceCode        age  \\\n",
       "0       84       4.478044       2008.0  84153.246174  39.419530   \n",
       "1       36       1.286624       2008.0  36000.000000  33.403390   \n",
       "2       99       5.023529       2008.0  87469.411765  28.664662   \n",
       "3       94       4.157523       2008.0  94739.340801  28.449566   \n",
       "4       19       1.555556       2008.0  19195.238095  28.416911   \n",
       "..     ...            ...          ...           ...        ...   \n",
       "76      82       1.104015       2008.0  82691.308046   8.022065   \n",
       "77      85       1.246770       2008.0  85564.844061   7.954835   \n",
       "78      53       1.438962       2008.0  53183.300723   7.722184   \n",
       "79      63       1.078067       2008.0  63400.164715   7.675516   \n",
       "80      74       1.091792       2008.0  74372.705931   7.488066   \n",
       "\n",
       "                                          Description  \n",
       "0   Administration publique et défense; sécurité s...  \n",
       "1           Captage, traitement et distribution d'eau  \n",
       "2   Activités des organisations et organismes extr...  \n",
       "3            Activités des organisations associatives  \n",
       "4                            Cokéfaction et raffinage  \n",
       "..                                                ...  \n",
       "76  Services administratifs de bureau et autres ac...  \n",
       "77                                       Enseignement  \n",
       "78                  Activités de poste et de courrier  \n",
       "79                             Services d'information  \n",
       "80  Autres activités spécialisées, scientifiques e...  \n",
       "\n",
       "[81 rows x 6 columns]"
      ]
     },
     "execution_count": 26,
     "metadata": {},
     "output_type": "execute_result"
    }
   ],
   "source": [
    "df_q4"
   ]
  },
  {
   "cell_type": "markdown",
   "id": "4c0ac817-596e-406b-8e73-7805238a0b0b",
   "metadata": {},
   "source": [
    "* <span style=\"color:blue\">**See table above**</span>"
   ]
  },
  {
   "cell_type": "code",
   "execution_count": null,
   "id": "c6ccbc8a-37c6-4b87-bf6f-072b8c11780b",
   "metadata": {},
   "outputs": [],
   "source": []
  }
 ],
 "metadata": {
  "kernelspec": {
   "display_name": "Python 3 (ipykernel)",
   "language": "python",
   "name": "python3"
  },
  "language_info": {
   "codemirror_mode": {
    "name": "ipython",
    "version": 3
   },
   "file_extension": ".py",
   "mimetype": "text/x-python",
   "name": "python",
   "nbconvert_exporter": "python",
   "pygments_lexer": "ipython3",
   "version": "3.10.6"
  }
 },
 "nbformat": 4,
 "nbformat_minor": 5
}
