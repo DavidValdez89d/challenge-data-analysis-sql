{
 "cells": [
  {
   "cell_type": "markdown",
   "id": "b7eeb9b9-7487-4fdf-af30-8a7a93ecf044",
   "metadata": {},
   "source": [
    "SQL database"
   ]
  },
  {
   "cell_type": "code",
   "execution_count": 2,
   "id": "bc165f56",
   "metadata": {},
   "outputs": [],
   "source": [
    "#MODULES\n",
    "import pandas as pd  #we need pandas for dataframes,  pip install pandas\n",
    "#import plotly.express as px  #we need ploty for graphs, pip install plotly-express\n",
    "#import streamlit as st  #we need streamlit for visualisation, pip install streamlit\n",
    "import seaborn as sns\n",
    "import sqlite3"
   ]
  },
  {
   "cell_type": "code",
   "execution_count": 3,
   "id": "0243e372",
   "metadata": {},
   "outputs": [],
   "source": [
    "db_path = 'bce.db'"
   ]
  },
  {
   "cell_type": "code",
   "execution_count": 4,
   "id": "658ffc9f",
   "metadata": {},
   "outputs": [],
   "source": [
    "con = sqlite3.connect(db_path)"
   ]
  },
  {
   "cell_type": "code",
   "execution_count": 5,
   "id": "3c24f579",
   "metadata": {},
   "outputs": [],
   "source": [
    "cur = con.cursor()"
   ]
  },
  {
   "cell_type": "code",
   "execution_count": 6,
   "id": "ac67a5c0",
   "metadata": {},
   "outputs": [],
   "source": [
    "res = cur.execute(\"SELECT Language FROM code\")"
   ]
  },
  {
   "cell_type": "markdown",
   "id": "0d33bd34",
   "metadata": {},
   "source": [
    "Which percentage of the companies are under which juridical form?\n",
    "\n",
    "Table = enterprise\n",
    "\n",
    "Column = JuridicalForm\n",
    "\n",
    "group by = JuridicalForm count by \n",
    "\n",
    "count all\n",
    "\n",
    "check duplicates"
   ]
  },
  {
   "cell_type": "markdown",
   "id": "c90bc209",
   "metadata": {},
   "source": []
  },
  {
   "cell_type": "code",
   "execution_count": 29,
   "id": "5b295996",
   "metadata": {},
   "outputs": [],
   "source": [
    "juridical_form_A = cur.execute(\"\"\"\n",
    "    SELECT \n",
    "        EnterpriseNumber,\n",
    "        enterprise.JuridicalForm AS JuridicalForm,\n",
    "        code.Description AS Description\n",
    "    FROM\n",
    "        enterprise\n",
    "        INNER JOIN code ON code.Code = enterprise.JuridicalForm WHERE code.Language == 'FR' AND code.Category == 'JuridicalForm'\n",
    "    GROUP BY\n",
    "        enterprise.JuridicalForm\n",
    "    LIMIT 10;\n",
    "\"\"\")"
   ]
  },
  {
   "cell_type": "code",
   "execution_count": 59,
   "id": "81f6a9c4",
   "metadata": {},
   "outputs": [],
   "source": [
    "juridical_form_B = cur.execute(\"\"\"\n",
    "    SELECT \n",
    "        JuridicalForm,COUNT(*)\n",
    "    FROM\n",
    "        enterprise\n",
    "        \n",
    "    GROUP BY\n",
    "        enterprise.JuridicalForm;\n",
    "    \n",
    "\"\"\")"
   ]
  },
  {
   "cell_type": "code",
   "execution_count": 69,
   "id": "47f9441c",
   "metadata": {},
   "outputs": [
    {
     "ename": "OperationalError",
     "evalue": "no such table: INNER",
     "output_type": "error",
     "traceback": [
      "\u001b[0;31m---------------------------------------------------------------------------\u001b[0m",
      "\u001b[0;31mOperationalError\u001b[0m                          Traceback (most recent call last)",
      "Cell \u001b[0;32mIn [69], line 1\u001b[0m\n\u001b[0;32m----> 1\u001b[0m juridical_form_C \u001b[39m=\u001b[39m cur\u001b[39m.\u001b[39;49mexecute(\u001b[39m\"\"\"\u001b[39;49m\n\u001b[1;32m      2\u001b[0m \u001b[39m    SELECT \u001b[39;49m\n\u001b[1;32m      3\u001b[0m \u001b[39m        JuridicalForm AS JuridicalFormID,\u001b[39;49m\n\u001b[1;32m      4\u001b[0m \u001b[39m        code.Description AS JuridicalFormName,\u001b[39;49m\n\u001b[1;32m      5\u001b[0m \u001b[39m        (JuridicalForm/COUNT(*)) AS Percentage\u001b[39;49m\n\u001b[1;32m      6\u001b[0m \u001b[39m    FROM\u001b[39;49m\n\u001b[1;32m      7\u001b[0m \u001b[39m        enterprise,\u001b[39;49m\n\u001b[1;32m      8\u001b[0m \u001b[39m        INNER JOIN code ON code.Code = enterprise.JuridicalForm WHERE code.Language == \u001b[39;49m\u001b[39m'\u001b[39;49m\u001b[39mFR\u001b[39;49m\u001b[39m'\u001b[39;49m\u001b[39m AND code.Category == \u001b[39;49m\u001b[39m'\u001b[39;49m\u001b[39mJuridicalForm\u001b[39;49m\u001b[39m'\u001b[39;49m\n\u001b[1;32m      9\u001b[0m \u001b[39m    GROUP BY\u001b[39;49m\n\u001b[1;32m     10\u001b[0m \u001b[39m        enterprise.JuridicalForm\u001b[39;49m\n\u001b[1;32m     11\u001b[0m \u001b[39m    LIMIT 10;\u001b[39;49m\n\u001b[1;32m     12\u001b[0m \u001b[39m\"\"\"\u001b[39;49m)\n\u001b[1;32m     13\u001b[0m juridical_form_C\n",
      "\u001b[0;31mOperationalError\u001b[0m: no such table: INNER"
     ]
    }
   ],
   "source": [
    "juridical_form_C = cur.execute(\"\"\"\n",
    "    SELECT \n",
    "        JuridicalForm AS JuridicalFormID,\n",
    "        code.Description AS JuridicalFormName,\n",
    "        (JuridicalForm/COUNT(*)) AS Percentage\n",
    "    FROM\n",
    "        enterprise,\n",
    "        INNER JOIN code ON code.Code = enterprise.JuridicalForm WHERE code.Language == 'FR' AND code.Category == 'JuridicalForm'\n",
    "    GROUP BY\n",
    "        enterprise.JuridicalForm\n",
    "    LIMIT 10;\n",
    "\"\"\")\n",
    "juridical_form_C"
   ]
  },
  {
   "cell_type": "markdown",
   "id": "2390ce5e",
   "metadata": {},
   "source": [
    "|JuridicalForm_ID|JuridicalForm_Name_FR|Percentage|\n",
    "|-|-|-|\n",
    "|007|'Jur007'|0.03|"
   ]
  },
  {
   "cell_type": "code",
   "execution_count": 30,
   "id": "eea28a68",
   "metadata": {},
   "outputs": [
    {
     "data": {
      "text/plain": [
       "[('0665.770.485', '001', 'Société coopérative européenne'),\n",
       " ('0408.597.355', '002', 'Organisme de financement de pensions'),\n",
       " ('0500.449.130', '003', 'Unité TVA'),\n",
       " ('0405.140.195', '006', 'Société coopérative à responsabilité illimitée'),\n",
       " ('0447.181.183',\n",
       "  '007',\n",
       "  'Société coopérative à responsabilité illimitée et solidaire, société coopérative de participation'),\n",
       " ('0200.362.408', '008', 'Société coopérative à responsabilité limitée'),\n",
       " ('0403.549.197',\n",
       "  '009',\n",
       "  'Société coopérative à responsabilité limitée, coopérative de participation'),\n",
       " ('0400.003.848', '011', 'Société en nom collectif'),\n",
       " ('0400.130.245', '012', 'Société en commandite simple'),\n",
       " ('0400.571.002', '013', 'Société en commandite par actions')]"
      ]
     },
     "execution_count": 30,
     "metadata": {},
     "output_type": "execute_result"
    }
   ],
   "source": [
    "juridical_form_A.fetchall()"
   ]
  },
  {
   "cell_type": "code",
   "execution_count": 60,
   "id": "ed4ffa57",
   "metadata": {},
   "outputs": [
    {
     "data": {
      "text/plain": [
       "[(None, 763643),\n",
       " ('001', 7),\n",
       " ('002', 160),\n",
       " ('003', 7673),\n",
       " ('006', 4648),\n",
       " ('007', 2),\n",
       " ('008', 12487),\n",
       " ('009', 18),\n",
       " ('011', 23453),\n",
       " ('012', 33097),\n",
       " ('013', 1621),\n",
       " ('014', 99035),\n",
       " ('015', 356509),\n",
       " ('016', 11655),\n",
       " ('017', 140375),\n",
       " ('018', 376),\n",
       " ('019', 1699),\n",
       " ('020', 1633),\n",
       " ('021', 79),\n",
       " ('022', 852),\n",
       " ('023', 33),\n",
       " ('025', 2156),\n",
       " ('026', 1940),\n",
       " ('027', 23),\n",
       " ('028', 2),\n",
       " ('029', 442),\n",
       " ('030', 61875),\n",
       " ('040', 5),\n",
       " ('051', 234),\n",
       " ('060', 243),\n",
       " ('065', 285),\n",
       " ('070', 94015),\n",
       " ('108', 34),\n",
       " ('110', 5),\n",
       " ('114', 52),\n",
       " ('116', 39),\n",
       " ('117', 27),\n",
       " ('123', 24),\n",
       " ('124', 5084),\n",
       " ('125', 2380),\n",
       " ('127', 1),\n",
       " ('129', 333),\n",
       " ('151', 267),\n",
       " ('160', 183),\n",
       " ('200', 3),\n",
       " ('217', 7),\n",
       " ('218', 5),\n",
       " ('230', 4005),\n",
       " ('235', 12321),\n",
       " ('265', 7),\n",
       " ('301', 12),\n",
       " ('302', 2),\n",
       " ('303', 45),\n",
       " ('310', 41),\n",
       " ('320', 8),\n",
       " ('325', 2),\n",
       " ('330', 11),\n",
       " ('340', 15),\n",
       " ('350', 6),\n",
       " ('370', 2),\n",
       " ('371', 1),\n",
       " ('373', 1),\n",
       " ('379', 60),\n",
       " ('380', 2),\n",
       " ('383', 1),\n",
       " ('385', 4),\n",
       " ('386', 5),\n",
       " ('387', 1),\n",
       " ('388', 6),\n",
       " ('393', 3),\n",
       " ('400', 16),\n",
       " ('411', 583),\n",
       " ('412', 583),\n",
       " ('413', 193),\n",
       " ('414', 21),\n",
       " ('415', 72),\n",
       " ('416', 26),\n",
       " ('417', 56),\n",
       " ('418', 288),\n",
       " ('419', 27),\n",
       " ('420', 129),\n",
       " ('422', 33),\n",
       " ('451', 127),\n",
       " ('452', 19),\n",
       " ('453', 200),\n",
       " ('454', 74),\n",
       " ('506', 11),\n",
       " ('508', 520),\n",
       " ('511', 6),\n",
       " ('512', 18),\n",
       " ('513', 2),\n",
       " ('514', 39),\n",
       " ('515', 84),\n",
       " ('560', 6),\n",
       " ('608', 1),\n",
       " ('610', 170607),\n",
       " ('612', 17228),\n",
       " ('616', 47),\n",
       " ('617', 2),\n",
       " ('651', 1),\n",
       " ('702', 30),\n",
       " ('706', 678),\n",
       " ('716', 2),\n",
       " ('721', 25178),\n",
       " ('722', 62),\n",
       " ('724', 1),\n",
       " ('790', 9),\n",
       " ('999', 1033)]"
      ]
     },
     "execution_count": 60,
     "metadata": {},
     "output_type": "execute_result"
    }
   ],
   "source": [
    "total_by_juridical_form = juridical_form_B.fetchall()\n",
    "total_by_juridical_form"
   ]
  },
  {
   "cell_type": "code",
   "execution_count": 61,
   "id": "c6addfa9",
   "metadata": {},
   "outputs": [],
   "source": [
    "total_by_juridical_form_df = pd.DataFrame(total_by_juridical_form, columns=['juridical_form','counts'])"
   ]
  },
  {
   "cell_type": "code",
   "execution_count": 62,
   "id": "d8a24fd7",
   "metadata": {},
   "outputs": [
    {
     "data": {
      "text/html": [
       "<div>\n",
       "<style scoped>\n",
       "    .dataframe tbody tr th:only-of-type {\n",
       "        vertical-align: middle;\n",
       "    }\n",
       "\n",
       "    .dataframe tbody tr th {\n",
       "        vertical-align: top;\n",
       "    }\n",
       "\n",
       "    .dataframe thead th {\n",
       "        text-align: right;\n",
       "    }\n",
       "</style>\n",
       "<table border=\"1\" class=\"dataframe\">\n",
       "  <thead>\n",
       "    <tr style=\"text-align: right;\">\n",
       "      <th></th>\n",
       "      <th>juridical_form</th>\n",
       "      <th>counts</th>\n",
       "    </tr>\n",
       "  </thead>\n",
       "  <tbody>\n",
       "    <tr>\n",
       "      <th>0</th>\n",
       "      <td>None</td>\n",
       "      <td>763643</td>\n",
       "    </tr>\n",
       "    <tr>\n",
       "      <th>1</th>\n",
       "      <td>001</td>\n",
       "      <td>7</td>\n",
       "    </tr>\n",
       "    <tr>\n",
       "      <th>2</th>\n",
       "      <td>002</td>\n",
       "      <td>160</td>\n",
       "    </tr>\n",
       "    <tr>\n",
       "      <th>3</th>\n",
       "      <td>003</td>\n",
       "      <td>7673</td>\n",
       "    </tr>\n",
       "    <tr>\n",
       "      <th>4</th>\n",
       "      <td>006</td>\n",
       "      <td>4648</td>\n",
       "    </tr>\n",
       "    <tr>\n",
       "      <th>...</th>\n",
       "      <td>...</td>\n",
       "      <td>...</td>\n",
       "    </tr>\n",
       "    <tr>\n",
       "      <th>103</th>\n",
       "      <td>721</td>\n",
       "      <td>25178</td>\n",
       "    </tr>\n",
       "    <tr>\n",
       "      <th>104</th>\n",
       "      <td>722</td>\n",
       "      <td>62</td>\n",
       "    </tr>\n",
       "    <tr>\n",
       "      <th>105</th>\n",
       "      <td>724</td>\n",
       "      <td>1</td>\n",
       "    </tr>\n",
       "    <tr>\n",
       "      <th>106</th>\n",
       "      <td>790</td>\n",
       "      <td>9</td>\n",
       "    </tr>\n",
       "    <tr>\n",
       "      <th>107</th>\n",
       "      <td>999</td>\n",
       "      <td>1033</td>\n",
       "    </tr>\n",
       "  </tbody>\n",
       "</table>\n",
       "<p>108 rows × 2 columns</p>\n",
       "</div>"
      ],
      "text/plain": [
       "    juridical_form  counts\n",
       "0             None  763643\n",
       "1              001       7\n",
       "2              002     160\n",
       "3              003    7673\n",
       "4              006    4648\n",
       "..             ...     ...\n",
       "103            721   25178\n",
       "104            722      62\n",
       "105            724       1\n",
       "106            790       9\n",
       "107            999    1033\n",
       "\n",
       "[108 rows x 2 columns]"
      ]
     },
     "execution_count": 62,
     "metadata": {},
     "output_type": "execute_result"
    }
   ],
   "source": [
    "total_by_juridical_form_df"
   ]
  },
  {
   "cell_type": "code",
   "execution_count": 64,
   "id": "46b0fddb",
   "metadata": {},
   "outputs": [
    {
     "data": {
      "text/plain": [
       "108"
      ]
     },
     "execution_count": 64,
     "metadata": {},
     "output_type": "execute_result"
    }
   ],
   "source": [
    "total_by_juridical_form_df.shape[0]"
   ]
  },
  {
   "cell_type": "code",
   "execution_count": 63,
   "id": "4f54c5de",
   "metadata": {},
   "outputs": [],
   "source": [
    "total_by_juridical_form_df['percentage'] = total_by_juridical_form_df['counts']/1863292"
   ]
  },
  {
   "cell_type": "code",
   "execution_count": null,
   "id": "05299325",
   "metadata": {},
   "outputs": [],
   "source": [
    "total_by_juridical_form_df['percentage'] = total_by_juridical_form_df['counts']/enterprise_df.shape[0]"
   ]
  },
  {
   "cell_type": "code",
   "execution_count": 45,
   "id": "8b7bfd21",
   "metadata": {},
   "outputs": [],
   "source": [
    "total_enterprises = cur.execute(\"\"\"\n",
    "    SELECT \n",
    "        COUNT(*)\n",
    "    FROM enterprise\n",
    "    \"\"\")"
   ]
  },
  {
   "cell_type": "code",
   "execution_count": 40,
   "id": "e56111d3",
   "metadata": {},
   "outputs": [
    {
     "data": {
      "text/plain": [
       "[(1863292,)]"
      ]
     },
     "execution_count": 40,
     "metadata": {},
     "output_type": "execute_result"
    }
   ],
   "source": [
    "total_enterprises_b = cur.execute(\"\"\"\n",
    "    SELECT COUNT(*) FROM enterprise\n",
    "    \"\"\")\n",
    "\n",
    "total_enterprises_b.fetchall()"
   ]
  },
  {
   "cell_type": "code",
   "execution_count": 46,
   "id": "fc1fb21d",
   "metadata": {},
   "outputs": [
    {
     "data": {
      "text/plain": [
       "[(1863292,)]"
      ]
     },
     "execution_count": 46,
     "metadata": {},
     "output_type": "execute_result"
    }
   ],
   "source": [
    "total_enterprises.fetchall()"
   ]
  },
  {
   "cell_type": "code",
   "execution_count": null,
   "id": "fbea77fd",
   "metadata": {},
   "outputs": [],
   "source": []
  }
 ],
 "metadata": {
  "kernelspec": {
   "display_name": "Python 3.10.6 ('env': venv)",
   "language": "python",
   "name": "python3"
  },
  "language_info": {
   "codemirror_mode": {
    "name": "ipython",
    "version": 3
   },
   "file_extension": ".py",
   "mimetype": "text/x-python",
   "name": "python",
   "nbconvert_exporter": "python",
   "pygments_lexer": "ipython3",
   "version": "3.10.6"
  },
  "vscode": {
   "interpreter": {
    "hash": "99f95658a4cfb7008ce30911e2e9e3cdcd6a4e4ebfb5d13eef015f4b61d7159b"
   }
  }
 },
 "nbformat": 4,
 "nbformat_minor": 5
}
